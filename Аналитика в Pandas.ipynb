{
 "cells": [
  {
   "cell_type": "code",
   "execution_count": 2,
   "metadata": {},
   "outputs": [],
   "source": [
    "import pandas as pd\n",
    "import numpy as np"
   ]
  },
  {
   "cell_type": "code",
   "execution_count": 3,
   "metadata": {},
   "outputs": [
    {
     "name": "stderr",
     "output_type": "stream",
     "text": [
      "C:\\Users\\natas\\AppData\\Local\\Temp\\ipykernel_57288\\3254474516.py:1: DtypeWarning: Columns (12,13,17,18,22) have mixed types. Specify dtype option on import or set low_memory=False.\n",
      "  data1 = pd.read_csv('./marketing.csv', sep=';')\n"
     ]
    },
    {
     "data": {
      "text/html": [
       "<div>\n",
       "<style scoped>\n",
       "    .dataframe tbody tr th:only-of-type {\n",
       "        vertical-align: middle;\n",
       "    }\n",
       "\n",
       "    .dataframe tbody tr th {\n",
       "        vertical-align: top;\n",
       "    }\n",
       "\n",
       "    .dataframe thead th {\n",
       "        text-align: right;\n",
       "    }\n",
       "</style>\n",
       "<table border=\"1\" class=\"dataframe\">\n",
       "  <thead>\n",
       "    <tr style=\"text-align: right;\">\n",
       "      <th></th>\n",
       "      <th>Client ID</th>\n",
       "      <th>Domain</th>\n",
       "      <th>City</th>\n",
       "      <th>Region</th>\n",
       "      <th>Browser</th>\n",
       "      <th>Device Category</th>\n",
       "      <th>Date</th>\n",
       "      <th>Pageviews</th>\n",
       "      <th>Campaign</th>\n",
       "      <th>Keyword</th>\n",
       "      <th>...</th>\n",
       "      <th>Bounce Rate</th>\n",
       "      <th>Sessions</th>\n",
       "      <th>Goal Completion Location</th>\n",
       "      <th>Goal Completions</th>\n",
       "      <th>Goal Conversion Rate</th>\n",
       "      <th>Goal Value</th>\n",
       "      <th>Конверсия</th>\n",
       "      <th>Source conv.</th>\n",
       "      <th>Marka</th>\n",
       "      <th>Model</th>\n",
       "    </tr>\n",
       "  </thead>\n",
       "  <tbody>\n",
       "    <tr>\n",
       "      <th>0</th>\n",
       "      <td>GA1.2.1008664515.1580665610</td>\n",
       "      <td>cars.BMW-keyauto-krd.ru</td>\n",
       "      <td>Krasnodar</td>\n",
       "      <td>Krasnodar Krai</td>\n",
       "      <td>Chrome</td>\n",
       "      <td>mobile</td>\n",
       "      <td>2020-02-02 00:00:00,000</td>\n",
       "      <td>2</td>\n",
       "      <td>(not set)</td>\n",
       "      <td>(not set)</td>\n",
       "      <td>...</td>\n",
       "      <td>0</td>\n",
       "      <td>1</td>\n",
       "      <td>/</td>\n",
       "      <td>0</td>\n",
       "      <td>0</td>\n",
       "      <td>0</td>\n",
       "      <td>0</td>\n",
       "      <td>BMW-keyauto-krd.ru</td>\n",
       "      <td>BMW</td>\n",
       "      <td>NaN</td>\n",
       "    </tr>\n",
       "    <tr>\n",
       "      <th>1</th>\n",
       "      <td>GA1.2.1018469100.1579095666</td>\n",
       "      <td>cars.BMW-keyauto-krd.ru</td>\n",
       "      <td>Krasnodar</td>\n",
       "      <td>Krasnodar Krai</td>\n",
       "      <td>Chrome</td>\n",
       "      <td>mobile</td>\n",
       "      <td>2020-01-15 00:00:00,000</td>\n",
       "      <td>2</td>\n",
       "      <td>(not set)</td>\n",
       "      <td>(not set)</td>\n",
       "      <td>...</td>\n",
       "      <td>0</td>\n",
       "      <td>1</td>\n",
       "      <td>/</td>\n",
       "      <td>0</td>\n",
       "      <td>0</td>\n",
       "      <td>0</td>\n",
       "      <td>0</td>\n",
       "      <td>BMW-keyauto-krd.ru</td>\n",
       "      <td>BMW</td>\n",
       "      <td>NaN</td>\n",
       "    </tr>\n",
       "    <tr>\n",
       "      <th>2</th>\n",
       "      <td>GA1.2.1026472417.1566848988</td>\n",
       "      <td>cars.BMW-keyauto-krd.ru</td>\n",
       "      <td>Krasnodar</td>\n",
       "      <td>Krasnodar Krai</td>\n",
       "      <td>Chrome</td>\n",
       "      <td>mobile</td>\n",
       "      <td>2020-01-06 00:00:00,000</td>\n",
       "      <td>2</td>\n",
       "      <td>(not set)</td>\n",
       "      <td>(not set)</td>\n",
       "      <td>...</td>\n",
       "      <td>0</td>\n",
       "      <td>1</td>\n",
       "      <td>/</td>\n",
       "      <td>0</td>\n",
       "      <td>0</td>\n",
       "      <td>0</td>\n",
       "      <td>0</td>\n",
       "      <td>BMW-keyauto-krd.ru</td>\n",
       "      <td>BMW</td>\n",
       "      <td>NaN</td>\n",
       "    </tr>\n",
       "    <tr>\n",
       "      <th>3</th>\n",
       "      <td>GA1.2.1033768264.1579957500</td>\n",
       "      <td>cars.BMW-keyauto-krd.ru</td>\n",
       "      <td>Krasnodar</td>\n",
       "      <td>Krasnodar Krai</td>\n",
       "      <td>Chrome</td>\n",
       "      <td>mobile</td>\n",
       "      <td>2020-01-25 00:00:00,000</td>\n",
       "      <td>2</td>\n",
       "      <td>(not set)</td>\n",
       "      <td>(not set)</td>\n",
       "      <td>...</td>\n",
       "      <td>0</td>\n",
       "      <td>1</td>\n",
       "      <td>/</td>\n",
       "      <td>0</td>\n",
       "      <td>0</td>\n",
       "      <td>0</td>\n",
       "      <td>0</td>\n",
       "      <td>BMW-keyauto-krd.ru</td>\n",
       "      <td>BMW</td>\n",
       "      <td>NaN</td>\n",
       "    </tr>\n",
       "    <tr>\n",
       "      <th>4</th>\n",
       "      <td>GA1.2.1034147636.1574186800</td>\n",
       "      <td>cars.BMW-keyauto-krd.ru</td>\n",
       "      <td>Krasnodar</td>\n",
       "      <td>Krasnodar Krai</td>\n",
       "      <td>Chrome</td>\n",
       "      <td>mobile</td>\n",
       "      <td>2020-01-25 00:00:00,000</td>\n",
       "      <td>2</td>\n",
       "      <td>(not set)</td>\n",
       "      <td>(not set)</td>\n",
       "      <td>...</td>\n",
       "      <td>0</td>\n",
       "      <td>1</td>\n",
       "      <td>/</td>\n",
       "      <td>0</td>\n",
       "      <td>0</td>\n",
       "      <td>0</td>\n",
       "      <td>0</td>\n",
       "      <td>BMW-keyauto-krd.ru</td>\n",
       "      <td>BMW</td>\n",
       "      <td>NaN</td>\n",
       "    </tr>\n",
       "  </tbody>\n",
       "</table>\n",
       "<p>5 rows × 23 columns</p>\n",
       "</div>"
      ],
      "text/plain": [
       "                     Client ID                   Domain       City  \\\n",
       "0  GA1.2.1008664515.1580665610  cars.BMW-keyauto-krd.ru  Krasnodar   \n",
       "1  GA1.2.1018469100.1579095666  cars.BMW-keyauto-krd.ru  Krasnodar   \n",
       "2  GA1.2.1026472417.1566848988  cars.BMW-keyauto-krd.ru  Krasnodar   \n",
       "3  GA1.2.1033768264.1579957500  cars.BMW-keyauto-krd.ru  Krasnodar   \n",
       "4  GA1.2.1034147636.1574186800  cars.BMW-keyauto-krd.ru  Krasnodar   \n",
       "\n",
       "           Region Browser Device Category                     Date  Pageviews  \\\n",
       "0  Krasnodar Krai  Chrome          mobile  2020-02-02 00:00:00,000          2   \n",
       "1  Krasnodar Krai  Chrome          mobile  2020-01-15 00:00:00,000          2   \n",
       "2  Krasnodar Krai  Chrome          mobile  2020-01-06 00:00:00,000          2   \n",
       "3  Krasnodar Krai  Chrome          mobile  2020-01-25 00:00:00,000          2   \n",
       "4  Krasnodar Krai  Chrome          mobile  2020-01-25 00:00:00,000          2   \n",
       "\n",
       "    Campaign    Keyword  ... Bounce Rate Sessions Goal Completion Location  \\\n",
       "0  (not set)  (not set)  ...           0        1                        /   \n",
       "1  (not set)  (not set)  ...           0        1                        /   \n",
       "2  (not set)  (not set)  ...           0        1                        /   \n",
       "3  (not set)  (not set)  ...           0        1                        /   \n",
       "4  (not set)  (not set)  ...           0        1                        /   \n",
       "\n",
       "  Goal Completions  Goal Conversion Rate Goal Value  Конверсия  \\\n",
       "0                0                     0          0          0   \n",
       "1                0                     0          0          0   \n",
       "2                0                     0          0          0   \n",
       "3                0                     0          0          0   \n",
       "4                0                     0          0          0   \n",
       "\n",
       "         Source conv. Marka  Model  \n",
       "0  BMW-keyauto-krd.ru   BMW    NaN  \n",
       "1  BMW-keyauto-krd.ru   BMW    NaN  \n",
       "2  BMW-keyauto-krd.ru   BMW    NaN  \n",
       "3  BMW-keyauto-krd.ru   BMW    NaN  \n",
       "4  BMW-keyauto-krd.ru   BMW    NaN  \n",
       "\n",
       "[5 rows x 23 columns]"
      ]
     },
     "execution_count": 3,
     "metadata": {},
     "output_type": "execute_result"
    }
   ],
   "source": [
    "\n",
    "data1 = pd.read_csv('./marketing.csv', sep=';')\n",
    "data1.head()"
   ]
  },
  {
   "cell_type": "code",
   "execution_count": 20,
   "metadata": {},
   "outputs": [
    {
     "data": {
      "text/plain": [
       "object    19\n",
       "int64      4\n",
       "Name: count, dtype: int64"
      ]
     },
     "execution_count": 20,
     "metadata": {},
     "output_type": "execute_result"
    }
   ],
   "source": [
    "data1.dtypes.value_counts()"
   ]
  },
  {
   "cell_type": "code",
   "execution_count": 7,
   "metadata": {},
   "outputs": [
    {
     "data": {
      "text/plain": [
       "Client ID                           object\n",
       "Domain                              object\n",
       "City                                object\n",
       "Region                              object\n",
       "Browser                             object\n",
       "Device Category                     object\n",
       "Date                        datetime64[ns]\n",
       "Pageviews                            int64\n",
       "Campaign                            object\n",
       "Keyword                             object\n",
       "Medium                              object\n",
       "Source                              object\n",
       "Avg. Session Duration               object\n",
       "Bounce Rate                         object\n",
       "Sessions                             int64\n",
       "Goal Completion Location            object\n",
       "Goal Completions                     int64\n",
       "Goal Conversion Rate                object\n",
       "Goal Value                          object\n",
       "Конверсия                            int64\n",
       "Source conv.                        object\n",
       "Marka                               object\n",
       "Model                               object\n",
       "dtype: object"
      ]
     },
     "execution_count": 7,
     "metadata": {},
     "output_type": "execute_result"
    }
   ],
   "source": [
    "data1.dtypes"
   ]
  },
  {
   "cell_type": "code",
   "execution_count": 21,
   "metadata": {},
   "outputs": [
    {
     "data": {
      "text/plain": [
       "(66162, 23)"
      ]
     },
     "execution_count": 21,
     "metadata": {},
     "output_type": "execute_result"
    }
   ],
   "source": [
    "data1.shape"
   ]
  },
  {
   "cell_type": "code",
   "execution_count": 4,
   "metadata": {},
   "outputs": [
    {
     "data": {
      "text/html": [
       "<div>\n",
       "<style scoped>\n",
       "    .dataframe tbody tr th:only-of-type {\n",
       "        vertical-align: middle;\n",
       "    }\n",
       "\n",
       "    .dataframe tbody tr th {\n",
       "        vertical-align: top;\n",
       "    }\n",
       "\n",
       "    .dataframe thead th {\n",
       "        text-align: right;\n",
       "    }\n",
       "</style>\n",
       "<table border=\"1\" class=\"dataframe\">\n",
       "  <thead>\n",
       "    <tr style=\"text-align: right;\">\n",
       "      <th></th>\n",
       "      <th>Марка</th>\n",
       "      <th>Модель</th>\n",
       "      <th>Цена</th>\n",
       "      <th>Валюта</th>\n",
       "      <th>Маржинальность</th>\n",
       "      <th>Курс рубля</th>\n",
       "      <th>Стоимость в рублях</th>\n",
       "      <th>Маржа в рублях</th>\n",
       "    </tr>\n",
       "  </thead>\n",
       "  <tbody>\n",
       "    <tr>\n",
       "      <th>0</th>\n",
       "      <td>MERCEDES</td>\n",
       "      <td>GLS</td>\n",
       "      <td>113513,513513514</td>\n",
       "      <td>Доллар США</td>\n",
       "      <td>0,33</td>\n",
       "      <td>90,8423</td>\n",
       "      <td>10311828,648648692</td>\n",
       "      <td>3402903,4540540688</td>\n",
       "    </tr>\n",
       "    <tr>\n",
       "      <th>1</th>\n",
       "      <td>MERCEDES</td>\n",
       "      <td>GT_AMG</td>\n",
       "      <td>174324,324324324</td>\n",
       "      <td>Доллар США</td>\n",
       "      <td>0,34</td>\n",
       "      <td>90,8423</td>\n",
       "      <td>15836022,567567537</td>\n",
       "      <td>5384247,6729729632</td>\n",
       "    </tr>\n",
       "    <tr>\n",
       "      <th>2</th>\n",
       "      <td>BMW</td>\n",
       "      <td>X5</td>\n",
       "      <td>72222,2222222222</td>\n",
       "      <td>Евро</td>\n",
       "      <td>0,27</td>\n",
       "      <td>98,5447</td>\n",
       "      <td>7117117,2222222211</td>\n",
       "      <td>1921621,65</td>\n",
       "    </tr>\n",
       "    <tr>\n",
       "      <th>3</th>\n",
       "      <td>BMW</td>\n",
       "      <td>I3</td>\n",
       "      <td>51666,6666666667</td>\n",
       "      <td>Евро</td>\n",
       "      <td>0,35</td>\n",
       "      <td>98,5447</td>\n",
       "      <td>5091476,1666666707</td>\n",
       "      <td>1782016,6583333346</td>\n",
       "    </tr>\n",
       "    <tr>\n",
       "      <th>4</th>\n",
       "      <td>MERCEDES</td>\n",
       "      <td>С180</td>\n",
       "      <td>2300000</td>\n",
       "      <td>Рубль</td>\n",
       "      <td>0,2</td>\n",
       "      <td>1</td>\n",
       "      <td>2300000</td>\n",
       "      <td>460000</td>\n",
       "    </tr>\n",
       "  </tbody>\n",
       "</table>\n",
       "</div>"
      ],
      "text/plain": [
       "      Марка  Модель              Цена      Валюта Маржинальность Курс рубля  \\\n",
       "0  MERCEDES     GLS  113513,513513514  Доллар США           0,33    90,8423   \n",
       "1  MERCEDES  GT_AMG  174324,324324324  Доллар США           0,34    90,8423   \n",
       "2       BMW      X5  72222,2222222222        Евро           0,27    98,5447   \n",
       "3       BMW      I3  51666,6666666667        Евро           0,35    98,5447   \n",
       "4  MERCEDES    С180           2300000       Рубль            0,2          1   \n",
       "\n",
       "   Стоимость в рублях      Маржа в рублях  \n",
       "0  10311828,648648692  3402903,4540540688  \n",
       "1  15836022,567567537  5384247,6729729632  \n",
       "2  7117117,2222222211          1921621,65  \n",
       "3  5091476,1666666707  1782016,6583333346  \n",
       "4             2300000              460000  "
      ]
     },
     "execution_count": 4,
     "metadata": {},
     "output_type": "execute_result"
    }
   ],
   "source": [
    "data2 = pd.read_csv('./Spravochnik.csv', sep=';')\n",
    "data2.head()"
   ]
  },
  {
   "cell_type": "code",
   "execution_count": 28,
   "metadata": {},
   "outputs": [
    {
     "data": {
      "text/plain": [
       "Марка                  object\n",
       "Модель                 object\n",
       "Цена                   object\n",
       "Валюта                 object\n",
       "Маржинальность         object\n",
       "Курс рубля             object\n",
       "Стоимость в рублях    float64\n",
       "Маржа в рублях        float64\n",
       "dtype: object"
      ]
     },
     "execution_count": 28,
     "metadata": {},
     "output_type": "execute_result"
    }
   ],
   "source": [
    "data2.dtypes"
   ]
  },
  {
   "cell_type": "code",
   "execution_count": 5,
   "metadata": {},
   "outputs": [
    {
     "data": {
      "text/html": [
       "<div>\n",
       "<style scoped>\n",
       "    .dataframe tbody tr th:only-of-type {\n",
       "        vertical-align: middle;\n",
       "    }\n",
       "\n",
       "    .dataframe tbody tr th {\n",
       "        vertical-align: top;\n",
       "    }\n",
       "\n",
       "    .dataframe thead th {\n",
       "        text-align: right;\n",
       "    }\n",
       "</style>\n",
       "<table border=\"1\" class=\"dataframe\">\n",
       "  <thead>\n",
       "    <tr style=\"text-align: right;\">\n",
       "      <th></th>\n",
       "      <th>Client ID</th>\n",
       "      <th>Город</th>\n",
       "      <th>Просчет стоимости модели</th>\n",
       "      <th>Приход к диллеру</th>\n",
       "      <th>Продажа</th>\n",
       "    </tr>\n",
       "  </thead>\n",
       "  <tbody>\n",
       "    <tr>\n",
       "      <th>0</th>\n",
       "      <td>GA1.2.1108606219.1572272784</td>\n",
       "      <td>Krasnodar</td>\n",
       "      <td>0</td>\n",
       "      <td>0</td>\n",
       "      <td>0</td>\n",
       "    </tr>\n",
       "    <tr>\n",
       "      <th>1</th>\n",
       "      <td>GA1.2.1823974094.1570697747</td>\n",
       "      <td>Krasnodar</td>\n",
       "      <td>0</td>\n",
       "      <td>0</td>\n",
       "      <td>0</td>\n",
       "    </tr>\n",
       "    <tr>\n",
       "      <th>2</th>\n",
       "      <td>GA1.2.554197778.1572516039</td>\n",
       "      <td>Krasnodar</td>\n",
       "      <td>0</td>\n",
       "      <td>0</td>\n",
       "      <td>0</td>\n",
       "    </tr>\n",
       "    <tr>\n",
       "      <th>3</th>\n",
       "      <td>GA1.2.702909787.1572668704</td>\n",
       "      <td>Krasnodar</td>\n",
       "      <td>0</td>\n",
       "      <td>0</td>\n",
       "      <td>0</td>\n",
       "    </tr>\n",
       "    <tr>\n",
       "      <th>4</th>\n",
       "      <td>GA1.2.730171603.1569937181</td>\n",
       "      <td>Krasnodar</td>\n",
       "      <td>0</td>\n",
       "      <td>0</td>\n",
       "      <td>0</td>\n",
       "    </tr>\n",
       "  </tbody>\n",
       "</table>\n",
       "</div>"
      ],
      "text/plain": [
       "                     Client ID      Город  Просчет стоимости модели  \\\n",
       "0  GA1.2.1108606219.1572272784  Krasnodar                         0   \n",
       "1  GA1.2.1823974094.1570697747  Krasnodar                         0   \n",
       "2   GA1.2.554197778.1572516039  Krasnodar                         0   \n",
       "3   GA1.2.702909787.1572668704  Krasnodar                         0   \n",
       "4   GA1.2.730171603.1569937181  Krasnodar                         0   \n",
       "\n",
       "   Приход к диллеру  Продажа  \n",
       "0                 0        0  \n",
       "1                 0        0  \n",
       "2                 0        0  \n",
       "3                 0        0  \n",
       "4                 0        0  "
      ]
     },
     "execution_count": 5,
     "metadata": {},
     "output_type": "execute_result"
    }
   ],
   "source": [
    "crm = pd.read_csv('./CRM.csv', sep=';')\n",
    "crm.head()"
   ]
  },
  {
   "cell_type": "code",
   "execution_count": 19,
   "metadata": {},
   "outputs": [
    {
     "data": {
      "text/plain": [
       "Client ID                   object\n",
       "Город                       object\n",
       "Просчет стоимости модели     int64\n",
       "Приход к диллеру             int64\n",
       "Продажа                      int64\n",
       "dtype: object"
      ]
     },
     "execution_count": 19,
     "metadata": {},
     "output_type": "execute_result"
    }
   ],
   "source": [
    "crm.dtypes"
   ]
  },
  {
   "cell_type": "markdown",
   "metadata": {},
   "source": [
    "Из каких регионов больше всего заявок?"
   ]
  },
  {
   "cell_type": "code",
   "execution_count": 33,
   "metadata": {},
   "outputs": [
    {
     "data": {
      "text/plain": [
       "'Krasnodar Krai'"
      ]
     },
     "execution_count": 33,
     "metadata": {},
     "output_type": "execute_result"
    }
   ],
   "source": [
    "region = data1.groupby('Region').size()\n",
    "sorted_region = region.sort_values(ascending=False)\n",
    "most_requests_region = sorted_region.index[0]\n",
    "most_requests_region"
   ]
  },
  {
   "cell_type": "markdown",
   "metadata": {},
   "source": [
    "Какой средний процент отказов (Bounce)?"
   ]
  },
  {
   "cell_type": "code",
   "execution_count": 12,
   "metadata": {},
   "outputs": [
    {
     "data": {
      "text/plain": [
       "0.23"
      ]
     },
     "execution_count": 12,
     "metadata": {},
     "output_type": "execute_result"
    }
   ],
   "source": [
    "data1['Bounce Rate'] = data1['Bounce Rate'].replace('-', np.nan)\n",
    "data1['Bounce Rate'] = data1['Bounce Rate'].astype(float)\n",
    "average_bounce_rate = data1['Bounce Rate'].mean()\n",
    "average_bounce_rate = round(average_bounce_rate * 100, 2)\n",
    "average_bounce_rate"
   ]
  },
  {
   "cell_type": "markdown",
   "metadata": {},
   "source": [
    "С каких устройств чаще заходят на сайты?\n"
   ]
  },
  {
   "cell_type": "code",
   "execution_count": 13,
   "metadata": {},
   "outputs": [
    {
     "data": {
      "text/plain": [
       "'mobile'"
      ]
     },
     "execution_count": 13,
     "metadata": {},
     "output_type": "execute_result"
    }
   ],
   "source": [
    "device = data1.groupby('Device Category').size()\n",
    "sorted_device = device.sort_values(ascending=False)\n",
    "most_requests_device = sorted_device.index[0]\n",
    "most_requests_device"
   ]
  },
  {
   "cell_type": "markdown",
   "metadata": {},
   "source": [
    "Какие источники наиболее конвертируемые?"
   ]
  },
  {
   "cell_type": "code",
   "execution_count": 18,
   "metadata": {},
   "outputs": [
    {
     "data": {
      "text/plain": [
       "Source\n",
       "zoon.ru                       1.0\n",
       "m.facebook.com                1.0\n",
       "mir.BMW.ru                    1.0\n",
       "cars.Mersedes-krasnodar.ru    1.0\n",
       "min.rusdealers.ru             1.0\n",
       "                             ... \n",
       "msk.autoneva.ru               NaN\n",
       "rnd.autoneva.ru               NaN\n",
       "stavropol.drom.ru             NaN\n",
       "yandex.com.tr                 NaN\n",
       "честно-отзыв.рф               NaN\n",
       "Name: Goal Conversion Rate, Length: 88, dtype: float64"
      ]
     },
     "execution_count": 18,
     "metadata": {},
     "output_type": "execute_result"
    }
   ],
   "source": [
    "data1['Goal Conversion Rate'] = data1['Goal Conversion Rate'].astype(float)\n",
    "conversion_by_source = data1.groupby('Source')['Goal Conversion Rate'].mean()\n",
    "conversion_by_source = conversion_by_source.sort_values(ascending=False)\n",
    "conversion_by_source"
   ]
  },
  {
   "cell_type": "markdown",
   "metadata": {},
   "source": [
    "Рассчитайте ROMI (при расчете придумайте методологию расчета средней стоимость \n",
    "проданного автомобиля)?"
   ]
  },
  {
   "cell_type": "code",
   "execution_count": 16,
   "metadata": {},
   "outputs": [],
   "source": [
    "data2['Стоимость в рублях'] = data2['Стоимость в рублях'].str.replace(',', '.').astype(float)\n",
    "data2['Маржа в рублях'] = data2['Маржа в рублях'].str.replace(',', '.').astype(float)"
   ]
  },
  {
   "cell_type": "code",
   "execution_count": 44,
   "metadata": {},
   "outputs": [
    {
     "data": {
      "text/plain": [
       "875703493.0"
      ]
     },
     "execution_count": 44,
     "metadata": {},
     "output_type": "execute_result"
    }
   ],
   "source": [
    "total_marketing_profit = data1['Goal Value'].sum()\n",
    "total_marketing_profit"
   ]
  },
  {
   "cell_type": "code",
   "execution_count": 17,
   "metadata": {},
   "outputs": [
    {
     "data": {
      "text/plain": [
       "5247277.79"
      ]
     },
     "execution_count": 17,
     "metadata": {},
     "output_type": "execute_result"
    }
   ],
   "source": [
    "average_sales_price = data2['Стоимость в рублях'].mean().round(2)\n",
    "average_sales_price"
   ]
  },
  {
   "cell_type": "code",
   "execution_count": 73,
   "metadata": {},
   "outputs": [
    {
     "data": {
      "text/plain": [
       "3806"
      ]
     },
     "execution_count": 73,
     "metadata": {},
     "output_type": "execute_result"
    }
   ],
   "source": [
    "unique_customers_purchased = crm[crm['Продажа'] == 1]['Client ID'].nunique()\n",
    "unique_customers_purchased"
   ]
  },
  {
   "cell_type": "code",
   "execution_count": 56,
   "metadata": {},
   "outputs": [
    {
     "data": {
      "text/plain": [
       "19971139268.74"
      ]
     },
     "execution_count": 56,
     "metadata": {},
     "output_type": "execute_result"
    }
   ],
   "source": [
    "total_purchase_sum = unique_customers_purchased*average_sales_price\n",
    "total_purchase_sum"
   ]
  },
  {
   "cell_type": "code",
   "execution_count": 77,
   "metadata": {},
   "outputs": [
    {
     "data": {
      "text/plain": [
       "1539830.59"
      ]
     },
     "execution_count": 77,
     "metadata": {},
     "output_type": "execute_result"
    }
   ],
   "source": [
    "marg_avg = data2['Маржа в рублях'].mean().round(2)\n",
    "marg_avg"
   ]
  },
  {
   "cell_type": "code",
   "execution_count": 79,
   "metadata": {},
   "outputs": [
    {
     "data": {
      "text/plain": [
       "5860595225.54"
      ]
     },
     "execution_count": 79,
     "metadata": {},
     "output_type": "execute_result"
    }
   ],
   "source": [
    "total_marg = marg_avg*unique_customers_purchased\n",
    "total_marg"
   ]
  },
  {
   "cell_type": "code",
   "execution_count": 80,
   "metadata": {},
   "outputs": [
    {
     "data": {
      "text/plain": [
       "14110544043.2"
      ]
     },
     "execution_count": 80,
     "metadata": {},
     "output_type": "execute_result"
    }
   ],
   "source": [
    "profit = total_purchase_sum - total_marg\n",
    "profit"
   ]
  },
  {
   "cell_type": "code",
   "execution_count": 82,
   "metadata": {},
   "outputs": [
    {
     "data": {
      "text/plain": [
       "1511"
      ]
     },
     "execution_count": 82,
     "metadata": {},
     "output_type": "execute_result"
    }
   ],
   "source": [
    "romi = round((profit - total_marketing_profit) / total_marketing_profit * 100)\n",
    "romi"
   ]
  },
  {
   "cell_type": "markdown",
   "metadata": {},
   "source": [
    "Посчитайте выручку в рублях только по долларовым позициям?\n"
   ]
  },
  {
   "cell_type": "code",
   "execution_count": 95,
   "metadata": {},
   "outputs": [
    {
     "data": {
      "text/plain": [
       "array(['BMW', 'Mersedes'], dtype=object)"
      ]
     },
     "execution_count": 95,
     "metadata": {},
     "output_type": "execute_result"
    }
   ],
   "source": [
    "data1['Marka'].unique()"
   ]
  },
  {
   "cell_type": "code",
   "execution_count": 96,
   "metadata": {},
   "outputs": [
    {
     "data": {
      "text/plain": [
       "array([nan, 'gls', 'cls', 'x1', 'glc_prime', 'e220', 'e220-x-line',\n",
       "       'New318', '530d', 'c180_sw', 'c180', 'e400', 'glc', 'NewX5',\n",
       "       'proc180', 'GT_AMG', 'GLE', '318_super_series_2', 'c200',\n",
       "       'c200_classic', 'i3N', 'Newx3', 'cla', 'NewElantra', 'k900',\n",
       "       'New530d', 'H1', 'cla_ps', 'BMW-grand-x3', 'quoris', 'x3',\n",
       "       'Elantra'], dtype=object)"
      ]
     },
     "execution_count": 96,
     "metadata": {},
     "output_type": "execute_result"
    }
   ],
   "source": [
    "data1['Model'].unique()"
   ]
  },
  {
   "cell_type": "code",
   "execution_count": 97,
   "metadata": {},
   "outputs": [
    {
     "data": {
      "text/plain": [
       "578"
      ]
     },
     "execution_count": 97,
     "metadata": {},
     "output_type": "execute_result"
    }
   ],
   "source": [
    "filtered_clients1 = data1[(data1['Marka'] == 'Mersedes') & (data1['Model'] == 'gls')]\n",
    "filtered_clients1 = len(filtered_clients1)\n",
    "filtered_clients1\n"
   ]
  },
  {
   "cell_type": "code",
   "execution_count": 99,
   "metadata": {},
   "outputs": [
    {
     "data": {
      "text/plain": [
       "94"
      ]
     },
     "execution_count": 99,
     "metadata": {},
     "output_type": "execute_result"
    }
   ],
   "source": [
    "filtered_clients2 = data1[(data1['Marka'] == 'Mersedes') & (data1['Model'] == 'GT_AMG')]\n",
    "filtered_clients2 = len(filtered_clients2)\n",
    "filtered_clients2\n"
   ]
  },
  {
   "cell_type": "code",
   "execution_count": 108,
   "metadata": {},
   "outputs": [
    {
     "data": {
      "text/plain": [
       "5960236953.92"
      ]
     },
     "execution_count": 108,
     "metadata": {},
     "output_type": "execute_result"
    }
   ],
   "source": [
    "gls_total_sum = filtered_clients1*10311828.64\n",
    "gls_total_sum"
   ]
  },
  {
   "cell_type": "code",
   "execution_count": 109,
   "metadata": {},
   "outputs": [
    {
     "data": {
      "text/plain": [
       "1488586120.64"
      ]
     },
     "execution_count": 109,
     "metadata": {},
     "output_type": "execute_result"
    }
   ],
   "source": [
    "gt_total_sum = filtered_clients2 * 15836022.56\n",
    "gt_total_sum"
   ]
  },
  {
   "cell_type": "code",
   "execution_count": 110,
   "metadata": {},
   "outputs": [
    {
     "data": {
      "text/plain": [
       "7448823074.56"
      ]
     },
     "execution_count": 110,
     "metadata": {},
     "output_type": "execute_result"
    }
   ],
   "source": [
    "total_sum_on_usd = gls_total_sum + gt_total_sum\n",
    "total_sum_on_usd"
   ]
  },
  {
   "cell_type": "markdown",
   "metadata": {},
   "source": [
    "Определите, какой источник трафика наиболее выгоден для компании по текущим данным?"
   ]
  },
  {
   "cell_type": "code",
   "execution_count": 38,
   "metadata": {},
   "outputs": [
    {
     "data": {
      "text/plain": [
       "'google'"
      ]
     },
     "execution_count": 38,
     "metadata": {},
     "output_type": "execute_result"
    }
   ],
   "source": [
    "data1['Goal Value'] = data1['Goal Value'].replace('[^\\d.]', '', regex=True).astype(float)\n",
    "source_goal_value = data1.groupby('Source')['Goal Value'].sum()\n",
    "most_profitable_source = source_goal_value.idxmax()\n",
    "most_profitable_source"
   ]
  },
  {
   "cell_type": "markdown",
   "metadata": {},
   "source": [
    "Ответьте на вопрос: каких показателей не хватает, чтобы посчитать чистую прибыль?\n",
    "\n",
    "Себестоимость продажи автомобилей:  сумма денег, которую потратили на производство автомобилей (затраты на материалы, труд и другие операционные расходы, связанные с получением продукта).\n",
    "\n",
    "Дополнительные расходы: любые дополнительные расходы, связанные с продажей автомобилей (комиссии, налоги, страховку, затраты на доставку и другие операционные издержки).\n",
    "\n",
    "Прочие операционные расходы: любые другие операционные расходы, которые могут быть связаны с бизнесом (аренда помещений, зарплаты сотрудников, административные расходы и т.д.)"
   ]
  },
  {
   "cell_type": "markdown",
   "metadata": {},
   "source": [
    "Какая будет выручка за первый квартал, если средняя стоимость авто останется \n",
    "неизменной, а продажи будут пропорциональны текущим данным?"
   ]
  },
  {
   "cell_type": "code",
   "execution_count": 6,
   "metadata": {},
   "outputs": [
    {
     "name": "stderr",
     "output_type": "stream",
     "text": [
      "C:\\Users\\natas\\AppData\\Local\\Temp\\ipykernel_57288\\3750176488.py:1: UserWarning: Could not infer format, so each element will be parsed individually, falling back to `dateutil`. To ensure parsing is consistent and as-expected, please specify a format.\n",
      "  data1['Date'] = pd.to_datetime(data1['Date'])\n"
     ]
    }
   ],
   "source": [
    "data1['Date'] = pd.to_datetime(data1['Date'])"
   ]
  },
  {
   "cell_type": "code",
   "execution_count": 9,
   "metadata": {},
   "outputs": [
    {
     "data": {
      "text/html": [
       "<div>\n",
       "<style scoped>\n",
       "    .dataframe tbody tr th:only-of-type {\n",
       "        vertical-align: middle;\n",
       "    }\n",
       "\n",
       "    .dataframe tbody tr th {\n",
       "        vertical-align: top;\n",
       "    }\n",
       "\n",
       "    .dataframe thead th {\n",
       "        text-align: right;\n",
       "    }\n",
       "</style>\n",
       "<table border=\"1\" class=\"dataframe\">\n",
       "  <thead>\n",
       "    <tr style=\"text-align: right;\">\n",
       "      <th></th>\n",
       "      <th>Client ID</th>\n",
       "      <th>Domain</th>\n",
       "      <th>City</th>\n",
       "      <th>Region</th>\n",
       "      <th>Browser</th>\n",
       "      <th>Device Category</th>\n",
       "      <th>Date</th>\n",
       "      <th>Pageviews</th>\n",
       "      <th>Campaign</th>\n",
       "      <th>Keyword</th>\n",
       "      <th>...</th>\n",
       "      <th>Bounce Rate</th>\n",
       "      <th>Sessions</th>\n",
       "      <th>Goal Completion Location</th>\n",
       "      <th>Goal Completions</th>\n",
       "      <th>Goal Conversion Rate</th>\n",
       "      <th>Goal Value</th>\n",
       "      <th>Конверсия</th>\n",
       "      <th>Source conv.</th>\n",
       "      <th>Marka</th>\n",
       "      <th>Model</th>\n",
       "    </tr>\n",
       "  </thead>\n",
       "  <tbody>\n",
       "    <tr>\n",
       "      <th>32799</th>\n",
       "      <td>GA1.2.102022079.1580715843</td>\n",
       "      <td>Mersedes-krasnodar.ru</td>\n",
       "      <td>Stavropol</td>\n",
       "      <td>Stavropol Krai</td>\n",
       "      <td>Chrome</td>\n",
       "      <td>desktop</td>\n",
       "      <td>2020-02-03</td>\n",
       "      <td>4</td>\n",
       "      <td>(not set)</td>\n",
       "      <td>купить киа спортаж в салоне ключ авто краснодар</td>\n",
       "      <td>...</td>\n",
       "      <td>0</td>\n",
       "      <td>1</td>\n",
       "      <td>/models/gls/</td>\n",
       "      <td>1</td>\n",
       "      <td>1</td>\n",
       "      <td>21661</td>\n",
       "      <td>1</td>\n",
       "      <td>rambler</td>\n",
       "      <td>Mersedes</td>\n",
       "      <td>gls</td>\n",
       "    </tr>\n",
       "    <tr>\n",
       "      <th>32800</th>\n",
       "      <td>GA1.2.1067908647.1575040229</td>\n",
       "      <td>cars.Mersedes-krasnodar.ru</td>\n",
       "      <td>Cherkessk</td>\n",
       "      <td>Karachay-Cherkessia</td>\n",
       "      <td>Samsung Internet</td>\n",
       "      <td>mobile</td>\n",
       "      <td>2020-01-02</td>\n",
       "      <td>18</td>\n",
       "      <td>(not set)</td>\n",
       "      <td>Киа ключ авто краснодар официальный сайт</td>\n",
       "      <td>...</td>\n",
       "      <td>0</td>\n",
       "      <td>1</td>\n",
       "      <td>/</td>\n",
       "      <td>1</td>\n",
       "      <td>1</td>\n",
       "      <td>14066</td>\n",
       "      <td>1</td>\n",
       "      <td>rambler</td>\n",
       "      <td>Mersedes</td>\n",
       "      <td>NaN</td>\n",
       "    </tr>\n",
       "    <tr>\n",
       "      <th>32801</th>\n",
       "      <td>GA1.2.1228250464.1578583045</td>\n",
       "      <td>Mersedes-krasnodar.ru</td>\n",
       "      <td>Kerch</td>\n",
       "      <td>Crimea</td>\n",
       "      <td>YaBrowser</td>\n",
       "      <td>desktop</td>\n",
       "      <td>2020-01-09</td>\n",
       "      <td>4</td>\n",
       "      <td>(not set)</td>\n",
       "      <td>новые цены на киа в 2020г в автосалонах</td>\n",
       "      <td>...</td>\n",
       "      <td>0</td>\n",
       "      <td>1</td>\n",
       "      <td>(entrance)</td>\n",
       "      <td>1</td>\n",
       "      <td>1</td>\n",
       "      <td>8566</td>\n",
       "      <td>1</td>\n",
       "      <td>rambler</td>\n",
       "      <td>Mersedes</td>\n",
       "      <td>NaN</td>\n",
       "    </tr>\n",
       "    <tr>\n",
       "      <th>32802</th>\n",
       "      <td>GA1.2.124216522.1580107795</td>\n",
       "      <td>Mersedes-krasnodar.ru</td>\n",
       "      <td>(not set)</td>\n",
       "      <td>Stavropol Krai</td>\n",
       "      <td>Internet Explorer</td>\n",
       "      <td>desktop</td>\n",
       "      <td>2020-01-27</td>\n",
       "      <td>4</td>\n",
       "      <td>Mersedes_Krasnodar_Poisk</td>\n",
       "      <td>E220 +x +line +цена</td>\n",
       "      <td>...</td>\n",
       "      <td>0</td>\n",
       "      <td>1</td>\n",
       "      <td>/special/purchase/e220-x-line/?placement=</td>\n",
       "      <td>1</td>\n",
       "      <td>1</td>\n",
       "      <td>17144</td>\n",
       "      <td>1</td>\n",
       "      <td>google</td>\n",
       "      <td>Mersedes</td>\n",
       "      <td>NaN</td>\n",
       "    </tr>\n",
       "    <tr>\n",
       "      <th>32803</th>\n",
       "      <td>GA1.2.1467735387.1580649631</td>\n",
       "      <td>Mersedes-krasnodar.ru</td>\n",
       "      <td>(not set)</td>\n",
       "      <td>(not set)</td>\n",
       "      <td>Internet Explorer</td>\n",
       "      <td>desktop</td>\n",
       "      <td>2020-02-02</td>\n",
       "      <td>2</td>\n",
       "      <td>(not set)</td>\n",
       "      <td>amazon</td>\n",
       "      <td>...</td>\n",
       "      <td>0</td>\n",
       "      <td>1</td>\n",
       "      <td>/</td>\n",
       "      <td>1</td>\n",
       "      <td>1</td>\n",
       "      <td>39123</td>\n",
       "      <td>1</td>\n",
       "      <td>bing</td>\n",
       "      <td>Mersedes</td>\n",
       "      <td>NaN</td>\n",
       "    </tr>\n",
       "    <tr>\n",
       "      <th>...</th>\n",
       "      <td>...</td>\n",
       "      <td>...</td>\n",
       "      <td>...</td>\n",
       "      <td>...</td>\n",
       "      <td>...</td>\n",
       "      <td>...</td>\n",
       "      <td>...</td>\n",
       "      <td>...</td>\n",
       "      <td>...</td>\n",
       "      <td>...</td>\n",
       "      <td>...</td>\n",
       "      <td>...</td>\n",
       "      <td>...</td>\n",
       "      <td>...</td>\n",
       "      <td>...</td>\n",
       "      <td>...</td>\n",
       "      <td>...</td>\n",
       "      <td>...</td>\n",
       "      <td>...</td>\n",
       "      <td>...</td>\n",
       "      <td>...</td>\n",
       "    </tr>\n",
       "    <tr>\n",
       "      <th>66157</th>\n",
       "      <td>GA1.2.931145287.1578497465</td>\n",
       "      <td>cars.BMW-keyauto-krd.ru</td>\n",
       "      <td>Krasnodar</td>\n",
       "      <td>Krasnodar Krai</td>\n",
       "      <td>Chrome</td>\n",
       "      <td>mobile</td>\n",
       "      <td>2020-01-08</td>\n",
       "      <td>2</td>\n",
       "      <td>(not set)</td>\n",
       "      <td>(not set)</td>\n",
       "      <td>...</td>\n",
       "      <td>0</td>\n",
       "      <td>1</td>\n",
       "      <td>/</td>\n",
       "      <td>1</td>\n",
       "      <td>1</td>\n",
       "      <td>9359</td>\n",
       "      <td>1</td>\n",
       "      <td>BMW-keyauto-krd.ru</td>\n",
       "      <td>BMW</td>\n",
       "      <td>NaN</td>\n",
       "    </tr>\n",
       "    <tr>\n",
       "      <th>66158</th>\n",
       "      <td>GA1.2.936215499.1579302396</td>\n",
       "      <td>cars.BMW-keyauto-krd.ru</td>\n",
       "      <td>Krasnodar</td>\n",
       "      <td>Krasnodar Krai</td>\n",
       "      <td>Chrome</td>\n",
       "      <td>mobile</td>\n",
       "      <td>2020-01-20</td>\n",
       "      <td>2</td>\n",
       "      <td>(not set)</td>\n",
       "      <td>(not set)</td>\n",
       "      <td>...</td>\n",
       "      <td>0</td>\n",
       "      <td>1</td>\n",
       "      <td>/</td>\n",
       "      <td>1</td>\n",
       "      <td>1</td>\n",
       "      <td>39827</td>\n",
       "      <td>1</td>\n",
       "      <td>BMW-keyauto-krd.ru</td>\n",
       "      <td>BMW</td>\n",
       "      <td>NaN</td>\n",
       "    </tr>\n",
       "    <tr>\n",
       "      <th>66159</th>\n",
       "      <td>GA1.2.943709284.1571860702</td>\n",
       "      <td>cars.BMW-keyauto-krd.ru</td>\n",
       "      <td>Krasnodar</td>\n",
       "      <td>Krasnodar Krai</td>\n",
       "      <td>Chrome</td>\n",
       "      <td>mobile</td>\n",
       "      <td>2020-02-11</td>\n",
       "      <td>2</td>\n",
       "      <td>(not set)</td>\n",
       "      <td>(not set)</td>\n",
       "      <td>...</td>\n",
       "      <td>0</td>\n",
       "      <td>1</td>\n",
       "      <td>/</td>\n",
       "      <td>1</td>\n",
       "      <td>1</td>\n",
       "      <td>11880</td>\n",
       "      <td>1</td>\n",
       "      <td>BMW-keyauto-krd.ru</td>\n",
       "      <td>BMW</td>\n",
       "      <td>NaN</td>\n",
       "    </tr>\n",
       "    <tr>\n",
       "      <th>66160</th>\n",
       "      <td>GA1.2.943948684.1579628291</td>\n",
       "      <td>cars.BMW-keyauto-krd.ru</td>\n",
       "      <td>Krasnodar</td>\n",
       "      <td>Krasnodar Krai</td>\n",
       "      <td>Chrome</td>\n",
       "      <td>mobile</td>\n",
       "      <td>2020-01-21</td>\n",
       "      <td>2</td>\n",
       "      <td>(not set)</td>\n",
       "      <td>(not set)</td>\n",
       "      <td>...</td>\n",
       "      <td>0</td>\n",
       "      <td>1</td>\n",
       "      <td>/</td>\n",
       "      <td>1</td>\n",
       "      <td>1</td>\n",
       "      <td>20922</td>\n",
       "      <td>1</td>\n",
       "      <td>BMW-keyauto-krd.ru</td>\n",
       "      <td>BMW</td>\n",
       "      <td>NaN</td>\n",
       "    </tr>\n",
       "    <tr>\n",
       "      <th>66161</th>\n",
       "      <td>GA1.2.960530317.1571377536</td>\n",
       "      <td>cars.BMW-keyauto-krd.ru</td>\n",
       "      <td>Krasnodar</td>\n",
       "      <td>Krasnodar Krai</td>\n",
       "      <td>Chrome</td>\n",
       "      <td>mobile</td>\n",
       "      <td>2020-01-19</td>\n",
       "      <td>2</td>\n",
       "      <td>(not set)</td>\n",
       "      <td>(not set)</td>\n",
       "      <td>...</td>\n",
       "      <td>0</td>\n",
       "      <td>1</td>\n",
       "      <td>/</td>\n",
       "      <td>1</td>\n",
       "      <td>1</td>\n",
       "      <td>28667</td>\n",
       "      <td>1</td>\n",
       "      <td>BMW-keyauto-krd.ru</td>\n",
       "      <td>BMW</td>\n",
       "      <td>NaN</td>\n",
       "    </tr>\n",
       "  </tbody>\n",
       "</table>\n",
       "<p>33033 rows × 23 columns</p>\n",
       "</div>"
      ],
      "text/plain": [
       "                         Client ID                      Domain       City  \\\n",
       "32799   GA1.2.102022079.1580715843       Mersedes-krasnodar.ru  Stavropol   \n",
       "32800  GA1.2.1067908647.1575040229  cars.Mersedes-krasnodar.ru  Cherkessk   \n",
       "32801  GA1.2.1228250464.1578583045       Mersedes-krasnodar.ru      Kerch   \n",
       "32802   GA1.2.124216522.1580107795       Mersedes-krasnodar.ru  (not set)   \n",
       "32803  GA1.2.1467735387.1580649631       Mersedes-krasnodar.ru  (not set)   \n",
       "...                            ...                         ...        ...   \n",
       "66157   GA1.2.931145287.1578497465     cars.BMW-keyauto-krd.ru  Krasnodar   \n",
       "66158   GA1.2.936215499.1579302396     cars.BMW-keyauto-krd.ru  Krasnodar   \n",
       "66159   GA1.2.943709284.1571860702     cars.BMW-keyauto-krd.ru  Krasnodar   \n",
       "66160   GA1.2.943948684.1579628291     cars.BMW-keyauto-krd.ru  Krasnodar   \n",
       "66161   GA1.2.960530317.1571377536     cars.BMW-keyauto-krd.ru  Krasnodar   \n",
       "\n",
       "                    Region            Browser Device Category       Date  \\\n",
       "32799       Stavropol Krai             Chrome         desktop 2020-02-03   \n",
       "32800  Karachay-Cherkessia   Samsung Internet          mobile 2020-01-02   \n",
       "32801               Crimea          YaBrowser         desktop 2020-01-09   \n",
       "32802       Stavropol Krai  Internet Explorer         desktop 2020-01-27   \n",
       "32803            (not set)  Internet Explorer         desktop 2020-02-02   \n",
       "...                    ...                ...             ...        ...   \n",
       "66157       Krasnodar Krai             Chrome          mobile 2020-01-08   \n",
       "66158       Krasnodar Krai             Chrome          mobile 2020-01-20   \n",
       "66159       Krasnodar Krai             Chrome          mobile 2020-02-11   \n",
       "66160       Krasnodar Krai             Chrome          mobile 2020-01-21   \n",
       "66161       Krasnodar Krai             Chrome          mobile 2020-01-19   \n",
       "\n",
       "       Pageviews                  Campaign  \\\n",
       "32799          4                 (not set)   \n",
       "32800         18                 (not set)   \n",
       "32801          4                 (not set)   \n",
       "32802          4  Mersedes_Krasnodar_Poisk   \n",
       "32803          2                 (not set)   \n",
       "...          ...                       ...   \n",
       "66157          2                 (not set)   \n",
       "66158          2                 (not set)   \n",
       "66159          2                 (not set)   \n",
       "66160          2                 (not set)   \n",
       "66161          2                 (not set)   \n",
       "\n",
       "                                               Keyword  ... Bounce Rate  \\\n",
       "32799  купить киа спортаж в салоне ключ авто краснодар  ...           0   \n",
       "32800         Киа ключ авто краснодар официальный сайт  ...           0   \n",
       "32801          новые цены на киа в 2020г в автосалонах  ...           0   \n",
       "32802                              E220 +x +line +цена  ...           0   \n",
       "32803                                           amazon  ...           0   \n",
       "...                                                ...  ...         ...   \n",
       "66157                                        (not set)  ...           0   \n",
       "66158                                        (not set)  ...           0   \n",
       "66159                                        (not set)  ...           0   \n",
       "66160                                        (not set)  ...           0   \n",
       "66161                                        (not set)  ...           0   \n",
       "\n",
       "      Sessions                   Goal Completion Location Goal Completions  \\\n",
       "32799        1                               /models/gls/                1   \n",
       "32800        1                                          /                1   \n",
       "32801        1                                 (entrance)                1   \n",
       "32802        1  /special/purchase/e220-x-line/?placement=                1   \n",
       "32803        1                                          /                1   \n",
       "...        ...                                        ...              ...   \n",
       "66157        1                                          /                1   \n",
       "66158        1                                          /                1   \n",
       "66159        1                                          /                1   \n",
       "66160        1                                          /                1   \n",
       "66161        1                                          /                1   \n",
       "\n",
       "       Goal Conversion Rate Goal Value  Конверсия        Source conv.  \\\n",
       "32799                     1      21661          1             rambler   \n",
       "32800                     1      14066          1             rambler   \n",
       "32801                     1       8566          1             rambler   \n",
       "32802                     1      17144          1              google   \n",
       "32803                     1      39123          1                bing   \n",
       "...                     ...        ...        ...                 ...   \n",
       "66157                     1       9359          1  BMW-keyauto-krd.ru   \n",
       "66158                     1      39827          1  BMW-keyauto-krd.ru   \n",
       "66159                     1      11880          1  BMW-keyauto-krd.ru   \n",
       "66160                     1      20922          1  BMW-keyauto-krd.ru   \n",
       "66161                     1      28667          1  BMW-keyauto-krd.ru   \n",
       "\n",
       "          Marka  Model  \n",
       "32799  Mersedes    gls  \n",
       "32800  Mersedes    NaN  \n",
       "32801  Mersedes    NaN  \n",
       "32802  Mersedes    NaN  \n",
       "32803  Mersedes    NaN  \n",
       "...         ...    ...  \n",
       "66157       BMW    NaN  \n",
       "66158       BMW    NaN  \n",
       "66159       BMW    NaN  \n",
       "66160       BMW    NaN  \n",
       "66161       BMW    NaN  \n",
       "\n",
       "[33033 rows x 23 columns]"
      ]
     },
     "execution_count": 9,
     "metadata": {},
     "output_type": "execute_result"
    }
   ],
   "source": [
    "q1_successful_sales = data1[(data1['Date'].dt.quarter == 1) & (data1['Конверсия'] == 1)]\n",
    "q1_successful_sales"
   ]
  },
  {
   "cell_type": "code",
   "execution_count": 11,
   "metadata": {},
   "outputs": [
    {
     "data": {
      "text/plain": [
       "33033"
      ]
     },
     "execution_count": 11,
     "metadata": {},
     "output_type": "execute_result"
    }
   ],
   "source": [
    "sales = q1_successful_sales['Конверсия'].sum()\n",
    "sales"
   ]
  },
  {
   "cell_type": "code",
   "execution_count": 18,
   "metadata": {},
   "outputs": [
    {
     "data": {
      "text/plain": [
       "173333327237.07"
      ]
     },
     "execution_count": 18,
     "metadata": {},
     "output_type": "execute_result"
    }
   ],
   "source": [
    "q1_total_sales_amount = sales*average_sales_price\n",
    "q1_total_sales_amount"
   ]
  }
 ],
 "metadata": {
  "kernelspec": {
   "display_name": ".venv",
   "language": "python",
   "name": "python3"
  },
  "language_info": {
   "codemirror_mode": {
    "name": "ipython",
    "version": 3
   },
   "file_extension": ".py",
   "mimetype": "text/x-python",
   "name": "python",
   "nbconvert_exporter": "python",
   "pygments_lexer": "ipython3",
   "version": "3.11.5"
  }
 },
 "nbformat": 4,
 "nbformat_minor": 2
}
